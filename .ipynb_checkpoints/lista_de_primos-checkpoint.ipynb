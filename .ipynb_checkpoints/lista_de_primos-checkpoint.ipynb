{
 "cells": [
  {
   "cell_type": "markdown",
   "metadata": {},
   "source": [
    "##### Los factores primos en 13195 son 5, 7, 13 y 29 ¿ Cuál es el factor primo más grande en el número 600851475143 ?"
   ]
  },
  {
   "cell_type": "code",
   "execution_count": null,
   "metadata": {},
   "outputs": [],
   "source": [
    "numero = 600851475143\n",
    "numero = numero*1993\n",
    "#numero = numero*27\n",
    "\n",
    "n = numero  # Variable auxilair\n",
    "div = 2     # divisor, inicializo con div = 2\n",
    "\n",
    "l_div = [] # lista de numeros primos, factores de n.\n",
    "\n",
    "while n > 1:\n",
    "    if n%div == 0:         # Significa que div es un factor de n.\n",
    "        l_div.append(div)  # agrego div a la lista de factores primos de n\n",
    "        n = n / div        # Asigno el valor de la divición a n, para evitar contar factores compuestos de n.\n",
    "    else:\n",
    "        div += 1               \n",
    "\n",
    "print(l_div)"
   ]
  },
  {
   "cell_type": "code",
   "execution_count": null,
   "metadata": {},
   "outputs": [],
   "source": []
  }
 ],
 "metadata": {
  "kernelspec": {
   "display_name": "Python 3",
   "language": "python",
   "name": "python3"
  },
  "language_info": {
   "codemirror_mode": {
    "name": "ipython",
    "version": 3
   },
   "file_extension": ".py",
   "mimetype": "text/x-python",
   "name": "python",
   "nbconvert_exporter": "python",
   "pygments_lexer": "ipython3",
   "version": "3.7.0"
  }
 },
 "nbformat": 4,
 "nbformat_minor": 2
}
